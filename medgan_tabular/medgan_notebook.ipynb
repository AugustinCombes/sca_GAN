{
 "cells": [
  {
   "cell_type": "code",
   "execution_count": 1,
   "id": "99bb05e8",
   "metadata": {
    "ExecuteTime": {
     "end_time": "2022-03-17T13:51:34.760549Z",
     "start_time": "2022-03-17T13:51:34.756748Z"
    }
   },
   "outputs": [],
   "source": [
    "#import packages & dependencies\n",
    "\n",
    "from packages import *\n",
    "from models import Generator, Discriminator, define_autoencoder, define_discriminator, define_generator\n",
    "from train_autoencoder import train_autoencoder\n",
    "from train import train\n",
    "from stats import simulate, moment_dim_wise, plot_dim_mo, show, get_p_values, get_kl_norms, get_stats_save_models\n",
    "\n",
    "def plot_model(m, **kwargs):\n",
    "    return tf.keras.utils.plot_model(\n",
    "        m, show_shapes=True, show_layer_activations=True, show_layer_names= True, expand_nested= True, **kwargs\n",
    "    )"
   ]
  },
  {
   "cell_type": "code",
   "execution_count": 2,
   "id": "3c3c0522",
   "metadata": {
    "ExecuteTime": {
     "end_time": "2022-03-17T13:52:49.774335Z",
     "start_time": "2022-03-17T13:52:49.329553Z"
    }
   },
   "outputs": [
    {
     "data": {
      "text/plain": [
       "TensorShape([12651, 1742])"
      ]
     },
     "execution_count": 2,
     "metadata": {},
     "output_type": "execute_result"
    }
   ],
   "source": [
    "#import source data\n",
    "\n",
    "pi = pd.read_pickle('prepared_data_tabular_data_v1403.pkl')\n",
    "cols = pi.columns\n",
    "data = np.array(pi)\n",
    "del pi\n",
    "whole_data = tf.constant(data)\n",
    "whole_data.shape"
   ]
  },
  {
   "cell_type": "code",
   "execution_count": 5,
   "id": "acdad9d9",
   "metadata": {},
   "outputs": [],
   "source": [
    "#hyperparameters\n",
    "\n",
    "inputDim = whole_data.shape[-1]\n",
    "embeddingDim = 128\n",
    "randomDim = 128\n",
    "aeActivation = 'relu'\n",
    "discriminatorActivation = 'relu'\n",
    "dataType = ''\n",
    "generatorDims = (128,128)\n",
    "discriminatorDims = (256,128,1)\n",
    "keepRate = 1.0\n",
    "is_trainable = True\n",
    "lr = 0.001"
   ]
  },
  {
   "cell_type": "code",
   "execution_count": 6,
   "id": "bd2d684f",
   "metadata": {},
   "outputs": [
    {
     "name": "stderr",
     "output_type": "stream",
     "text": [
      "Processing pretraining. Current mean batch loss : 0: 100%|█| 1/1 [00:06<00:00, \n"
     ]
    }
   ],
   "source": [
    "# autoencoder pretraining\n",
    "\n",
    "ae, enc, dec = define_autoencoder(inputDim, embeddingDim, aeActivation, randomDim, dataType='')\n",
    "history = train_autoencoder(ae, whole_data, epochs=100, lr=0.001)"
   ]
  },
  {
   "cell_type": "code",
   "execution_count": 7,
   "id": "02ef6ce7",
   "metadata": {},
   "outputs": [
    {
     "name": "stderr",
     "output_type": "stream",
     "text": [
      "100%|████████████████████████████████████████████| 2/2 [00:12<00:00,  6.46s/it]\n"
     ]
    }
   ],
   "source": [
    "# gan & dec training\n",
    "\n",
    "g,d = (define_generator(randomDim, generatorDims, is_trainable, dec, dataType=''),\n",
    "        define_discriminator(inputDim, discriminatorDims, discriminatorActivation, keepRate))\n",
    "lgen, ldis, g, d = train(data_seq=whole_data.numpy(), gen_model= g, dis_model= d, latent_dim=embeddingDim, epochs=1000, batch_size=32, lr=0.001)"
   ]
  },
  {
   "cell_type": "code",
   "execution_count": 8,
   "id": "484f990a",
   "metadata": {},
   "outputs": [
    {
     "data": {
      "text/plain": [
       "(12651, 1742)"
      ]
     },
     "execution_count": 8,
     "metadata": {},
     "output_type": "execute_result"
    }
   ],
   "source": [
    "#Generating & saving data after model training\n",
    "\n",
    "gen = np.rint(g.call(tf.random.normal((whole_data.shape[0],128))).numpy()).astype(int)\n",
    "print(gen.shape)\n",
    "np.save('simulated_data.npy', gen)"
   ]
  }
 ],
 "metadata": {
  "kernelspec": {
   "display_name": "Python 3 (ipykernel)",
   "language": "python",
   "name": "python3"
  },
  "language_info": {
   "codemirror_mode": {
    "name": "ipython",
    "version": 3
   },
   "file_extension": ".py",
   "mimetype": "text/x-python",
   "name": "python",
   "nbconvert_exporter": "python",
   "pygments_lexer": "ipython3",
   "version": "3.9.12"
  },
  "toc": {
   "base_numbering": 1,
   "nav_menu": {},
   "number_sections": true,
   "sideBar": true,
   "skip_h1_title": false,
   "title_cell": "Table of Contents",
   "title_sidebar": "Contents",
   "toc_cell": false,
   "toc_position": {},
   "toc_section_display": true,
   "toc_window_display": false
  }
 },
 "nbformat": 4,
 "nbformat_minor": 5
}
