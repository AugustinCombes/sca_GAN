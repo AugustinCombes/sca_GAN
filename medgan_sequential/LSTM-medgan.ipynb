{
 "cells": [
  {
   "cell_type": "code",
   "execution_count": null,
   "id": "63b2f453",
   "metadata": {},
   "outputs": [],
   "source": [
    "from packages import *\n",
    "from custom_tf_layers import *\n",
    "from models import *\n",
    "from utils import *\n",
    "from pretrain_ae import pretrain_autoencoder\n",
    "from train import train"
   ]
  },
  {
   "cell_type": "code",
   "execution_count": null,
   "id": "41bf06e2",
   "metadata": {},
   "outputs": [],
   "source": [
    "#load formated data\n",
    "with open(\"weekwise_encoded_variantlength.pickle\", \"rb\") as file:\n",
    "    med = pickle.load(file)\n",
    "    \n",
    "for patient in med.keys():\n",
    "    for week in med[patient].keys():\n",
    "        tmp = list(set(med[patient][week]))\n",
    "        med[patient][week] = [week] + tmp\n",
    "    med[patient] = list(med[patient].values())\n",
    "    \n",
    "med = list(med.values())\n",
    "\n",
    "med = tf.ragged.constant(med)\n",
    "med.shape"
   ]
  },
  {
   "cell_type": "markdown",
   "id": "6824eca4",
   "metadata": {},
   "source": [
    "# Autoencoder pretraining"
   ]
  },
  {
   "cell_type": "code",
   "execution_count": null,
   "id": "3566245c",
   "metadata": {},
   "outputs": [],
   "source": [
    "#import autoencoder model architecture\n",
    "hercules = define_hercules(1569, 1571, 64)\n",
    "plot_model(hercules)"
   ]
  },
  {
   "cell_type": "code",
   "execution_count": null,
   "id": "eef3b96b",
   "metadata": {},
   "outputs": [],
   "source": [
    "#pretrain the autoencoder\n",
    "BUFFER_SIZE = 16000\n",
    "BATCH_SIZE = 64\n",
    "N_EPOCHS = 300\n",
    "\n",
    "pretrain_autoencoder(hercules, ehr_dataset=med, BUFFER_SIZE=BUFFER_SIZE, \n",
    "                     BATCH_SIZE=BATCH_SIZE, N_EPOCHS=N_EPOCHS)"
   ]
  },
  {
   "cell_type": "markdown",
   "id": "b86eb79e",
   "metadata": {},
   "source": [
    "# GAN training"
   ]
  },
  {
   "cell_type": "code",
   "execution_count": null,
   "id": "6bba96bc",
   "metadata": {
    "scrolled": true
   },
   "outputs": [],
   "source": [
    "# define generator\n",
    "input_layer = layers.Input(shape=(None, 64), ragged=True)\n",
    "pretrained_decoder_layer = K.function([hercules.layers[5].input], [hercules.layers[6].output])(input_layer)[0]\n",
    "pretrained_decoder = models.Model(inputs= [input_layer], outputs= [pretrained_decoder_layer])\n",
    "generator = define_generator(pretrained_decoder)\n",
    "plot_model(generator)"
   ]
  },
  {
   "cell_type": "code",
   "execution_count": null,
   "id": "9d93e507",
   "metadata": {
    "scrolled": true
   },
   "outputs": [],
   "source": [
    "# define discriminator\n",
    "preprocess_model = define_preprocess(NUM_CODE=1569)\n",
    "discriminator = define_discriminator(NUM_CODE=1569, MAX_TIMESTEPS=257, EMBEDIM=64)\n",
    "plot_model(discriminator)"
   ]
  },
  {
   "cell_type": "code",
   "execution_count": null,
   "id": "55b92248",
   "metadata": {
    "scrolled": true
   },
   "outputs": [],
   "source": [
    "#train the gan\n",
    "train(generator, discriminator, preprocess_model, med, EPOCHS=300)"
   ]
  }
 ],
 "metadata": {
  "kernelspec": {
   "display_name": "Python 3 (ipykernel)",
   "language": "python",
   "name": "python3"
  },
  "language_info": {
   "codemirror_mode": {
    "name": "ipython",
    "version": 3
   },
   "file_extension": ".py",
   "mimetype": "text/x-python",
   "name": "python",
   "nbconvert_exporter": "python",
   "pygments_lexer": "ipython3",
   "version": "3.9.12"
  }
 },
 "nbformat": 4,
 "nbformat_minor": 5
}
